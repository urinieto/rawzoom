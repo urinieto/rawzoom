{
 "cells": [
  {
   "cell_type": "code",
   "execution_count": 27,
   "metadata": {},
   "outputs": [],
   "source": [
    "%matplotlib notebook\n",
    "import IPython\n",
    "import librosa\n",
    "import numpy as np\n",
    "import soundfile\n",
    "import subprocess\n",
    "import matplotlib.pyplot as plt\n",
    "\n",
    "from librosa import display\n",
    "\n",
    "SR = 44100           # Sampling Rate (in Hz)\n",
    "CHANNELS = 4         # Number of output channels\n",
    "ENC = \"s16le\"        # Encoding (for FFMPEG)\n",
    "OFFSET_SAMP = 7926      # Offset in samples TODO: Encontrar\n",
    "INTER_SAMP = 130722  # Interleaved samples TODO: ENCONTRAR\n",
    "\n",
    "# Paths\n",
    "RAW_FILE = \"/Users/onieto/Downloads/bm.raw\"\n",
    "WAV_FILE1 = \"/Users/onieto/Downloads/bm1.wav\"\n",
    "WAV_FILE2 = \"/Users/onieto/Downloads/bm2.wav\"\n",
    "TMP_FILE = \"tmp.wav\""
   ]
  },
  {
   "cell_type": "code",
   "execution_count": 28,
   "metadata": {},
   "outputs": [],
   "source": [
    "def raw_to_interleaved_wav():\n",
    "    \"\"\"\n",
    "    Convert to WAV from Zoom's RAW format. \n",
    "    If more than 2 channels, result will be interleaved.\n",
    "    \"\"\"\n",
    "    cmd = \"ffmpeg -y -f {} -ss 0 -t 60 -ar {:.1f}k -ac 2 -i {} {}\".format(\n",
    "        ENC, SR / 1000, RAW_FILE, TMP_FILE)\n",
    "    subprocess.call(cmd.split(\" \"))  \n",
    "\n",
    "# Convert RAW to WAV using FFMPEG\n",
    "raw_to_interleaved_wav()"
   ]
  },
  {
   "cell_type": "code",
   "execution_count": null,
   "metadata": {},
   "outputs": [],
   "source": [
    "def make_even(x):\n",
    "    return x if len(x) % 2 == 0 else x[:-1]\n",
    "\n",
    "def to_mono(x):\n",
    "    return x.flatten('F')\n",
    "\n",
    "def to_stereo(x):\n",
    "    return x.reshape((2, -1), order='F')\n",
    "    \n",
    "def interleaved_wav_to_wavs():\n",
    "    # Read file\n",
    "    x, fs = librosa.load(TMP_FILE, sr=SR, mono=False)\n",
    "    \n",
    "    # Read interleaved chunks\n",
    "    x = to_mono(x[:, OFFSET_SAMP * 2:])\n",
    "    chunk_size = int(INTER_SAMP * 2)\n",
    "    y = np.array_split(x, np.arange(chunk_size, len(x), chunk_size))\n",
    "    \n",
    "    # De-interleave chunks and make even\n",
    "    y1 = make_even(np.concatenate(y[1::2]))\n",
    "    y2 = make_even(np.concatenate(y[::2]))\n",
    "    \n",
    "    # Return Stereo signals\n",
    "    return to_stereo(y1), to_stereo(y2)\n",
    "    \n",
    "x1, x2 = interleaved_wav_to_wavs()\n",
    "IPython.display.Audio(data=x1, rate=SR)\n",
    "# soundfile.write(file=WAV_FILE,\n",
    "#                 data=x1.T,\n",
    "#                 samplerate=SR)"
   ]
  },
  {
   "cell_type": "code",
   "execution_count": 30,
   "metadata": {},
   "outputs": [
    {
     "data": {
      "text/plain": [
       "134685.0"
      ]
     },
     "execution_count": 30,
     "metadata": {},
     "output_type": "execute_result"
    }
   ],
   "source": [
    "# 269370 -> 269371 # 2nd change\n",
    "# 530814 -> 530815 # 4th change\n",
    "# 1075694 -> 1075695 # 8th change\n",
    "269370 / 2"
   ]
  },
  {
   "cell_type": "code",
   "execution_count": 16,
   "metadata": {},
   "outputs": [
    {
     "data": {
      "text/plain": [
       "130722.0"
      ]
     },
     "execution_count": 16,
     "metadata": {},
     "output_type": "execute_result"
    }
   ],
   "source": [
    "(530814 - 269370) / 2"
   ]
  },
  {
   "cell_type": "code",
   "execution_count": 26,
   "metadata": {},
   "outputs": [
    {
     "data": {
      "text/plain": [
       "7926"
      ]
     },
     "execution_count": 26,
     "metadata": {},
     "output_type": "execute_result"
    }
   ],
   "source": [
    "530814 - 130722 * 4"
   ]
  },
  {
   "cell_type": "code",
   "execution_count": 31,
   "metadata": {},
   "outputs": [
    {
     "data": {
      "text/plain": [
       "136220.0"
      ]
     },
     "execution_count": 31,
     "metadata": {},
     "output_type": "execute_result"
    }
   ],
   "source": [
    "(1075694 - 530814) / 4"
   ]
  },
  {
   "cell_type": "code",
   "execution_count": 34,
   "metadata": {},
   "outputs": [
    {
     "data": {
      "text/plain": [
       "134387.33333333334"
      ]
     },
     "execution_count": 34,
     "metadata": {},
     "output_type": "execute_result"
    }
   ],
   "source": [
    "(1075694 - 269370) / 6"
   ]
  },
  {
   "cell_type": "code",
   "execution_count": null,
   "metadata": {},
   "outputs": [],
   "source": []
  }
 ],
 "metadata": {
  "kernelspec": {
   "display_name": "Python 3",
   "language": "python",
   "name": "python3"
  },
  "language_info": {
   "codemirror_mode": {
    "name": "ipython",
    "version": 3
   },
   "file_extension": ".py",
   "mimetype": "text/x-python",
   "name": "python",
   "nbconvert_exporter": "python",
   "pygments_lexer": "ipython3",
   "version": "3.7.4"
  }
 },
 "nbformat": 4,
 "nbformat_minor": 2
}
