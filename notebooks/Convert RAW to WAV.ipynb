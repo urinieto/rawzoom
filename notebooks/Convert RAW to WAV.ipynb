{
 "cells": [
  {
   "cell_type": "code",
   "execution_count": null,
   "metadata": {},
   "outputs": [],
   "source": [
    "%matplotlib notebook\n",
    "import IPython\n",
    "import librosa\n",
    "import numpy as np\n",
    "import soundfile\n",
    "import subprocess\n",
    "import matplotlib.pyplot as plt\n",
    "\n",
    "from librosa import display\n",
    "\n",
    "SR = 44100      # Sampling Rate (in Hz)\n",
    "CHANNELS = 4    # Number of output channels\n",
    "ENC = \"s16le\"   # Encoding (for FFMPEG)\n",
    "INTER_SAMP = 133600  # Interleaved samples\n",
    "\n",
    "# Paths\n",
    "RAW_FILE = \"/Users/onieto/Downloads/bm.raw\"\n",
    "WAV_FILE1 = \"/Users/onieto/Downloads/bm1.wav\"\n",
    "WAV_FILE2 = \"/Users/onieto/Downloads/bm2.wav\"\n",
    "TMP_FILE = \"tmp.wav\""
   ]
  },
  {
   "cell_type": "code",
   "execution_count": null,
   "metadata": {},
   "outputs": [],
   "source": [
    "def raw_to_interleaved_wav():\n",
    "    \"\"\"\n",
    "    Convert to WAV from Zoom's RAW format. \n",
    "    If more than 2 channels, result will be interleaved.\n",
    "    \"\"\"\n",
    "    cmd = \"ffmpeg -y -f {} -ss 0 -t 60 -ar {:.1f}k -ac 2 -i {} {}\".format(\n",
    "        ENC, SR / 1000, RAW_FILE, TMP_FILE)\n",
    "    subprocess.call(cmd.split(\" \"))  \n",
    "\n",
    "# Convert RAW to WAV using FFMPEG\n",
    "raw_to_interleaved_wav()"
   ]
  },
  {
   "cell_type": "code",
   "execution_count": null,
   "metadata": {},
   "outputs": [],
   "source": [
    "def interleaved_wav_to_wavs():\n",
    "    x, fs = librosa.load(TMP_FILE, sr=SR, mono=False)\n",
    "    x = x.flatten('F')\n",
    "    chunk_size = int(INTER_SAMP * 2)\n",
    "    y = np.array_split(x, np.arange(chunk_size, len(x), chunk_size))\n",
    "    y = np.concatenate(y[1::2])\n",
    "    if len(y) % 2 != 0:\n",
    "        y = y[:-1]\n",
    "    return y.reshape((2, -1), order='F')\n",
    "    \n",
    "x = interleaved_wav_to_wavs()\n",
    "IPython.display.Audio(data=x, rate=SR)\n",
    "# soundfile.write(file=WAV_FILE,\n",
    "#                 data=x.T,\n",
    "#                 samplerate=SR)"
   ]
  },
  {
   "cell_type": "code",
   "execution_count": null,
   "metadata": {},
   "outputs": [],
   "source": [
    "133843 / 44100.\n",
    "\n",
    "3.03* 44100"
   ]
  }
 ],
 "metadata": {
  "kernelspec": {
   "display_name": "Python 3",
   "language": "python",
   "name": "python3"
  },
  "language_info": {
   "codemirror_mode": {
    "name": "ipython",
    "version": 3
   },
   "file_extension": ".py",
   "mimetype": "text/x-python",
   "name": "python",
   "nbconvert_exporter": "python",
   "pygments_lexer": "ipython3",
   "version": "3.7.4"
  }
 },
 "nbformat": 4,
 "nbformat_minor": 2
}
