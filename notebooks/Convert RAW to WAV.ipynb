{
 "cells": [
  {
   "cell_type": "markdown",
   "metadata": {},
   "source": [
    "# H1 Zoom RAW to WAV\n",
    "\n",
    "This code converts a 4-channel raw file created with a Zoom H1 recorder to a WAV file.\n",
    "\n",
    "The following assumptions are made:\n",
    "- Input file is sampled at 44.1kHz\n",
    "- Input file is encoded as signed 16-bit little endian\n",
    "- Input file contains 2 different _stereo_ signals, interleaved.\n",
    "- Output files are 2 stereo WAV files, sampled at 44.1kHz, and with 16 bit resolution.\n",
    "\n",
    "To de-interleave the two signals, two different segment sizes are employed, which keep alternating across the whole signal as follows:\n",
    "- signal1_segmentsize1\n",
    "- signal2_segmentsize1\n",
    "- signal1_segmentsize2 \n",
    "- signal2_segmentsize2\n",
    "- signal1_segmentsize1\n",
    "- etc.\n",
    "\n",
    "Requirements\n",
    "----\n",
    "\n",
    "- librosa 0.7.2\n",
    "- ffmpeg 4.2.2"
   ]
  },
  {
   "cell_type": "code",
   "execution_count": null,
   "metadata": {},
   "outputs": [],
   "source": [
    "%matplotlib notebook\n",
    "import IPython\n",
    "import librosa\n",
    "import numpy as np\n",
    "import soundfile\n",
    "import subprocess\n",
    "import matplotlib.pyplot as plt\n",
    "\n",
    "from librosa import display\n",
    "\n",
    "SR = 44100           # Sampling Rate (in Hz)\n",
    "ENC = \"s16le\"        # Encoding (for FFMPEG)\n",
    "OFFSET_SAMP = 269728 # Offset in samples\n",
    "SEGMENT_SIZE1 = 131072  # Size for segment type 1 (in samples)\n",
    "SEGMENT_SIZE2 = 139264  # Size for segment type 2 (in samples)\n",
    "\n",
    "# Paths\n",
    "RAW_FILE = \"/Users/onieto/Downloads/bm.raw\"\n",
    "WAV_FILE1 = \"/Users/onieto/Downloads/bm1.wav\"\n",
    "WAV_FILE2 = \"/Users/onieto/Downloads/bm2.wav\"\n",
    "TMP_FILE = \"tmp.wav\""
   ]
  },
  {
   "cell_type": "code",
   "execution_count": null,
   "metadata": {},
   "outputs": [],
   "source": [
    "def raw_to_interleaved_wav():\n",
    "    \"\"\"\n",
    "    Convert to WAV from Zoom's RAW format. \n",
    "    If more than 2 channels, result will be interleaved.\n",
    "    \"\"\"\n",
    "    cmd = \"ffmpeg -y -f {} -ss 0 -t 300 -ar {:.1f}k -ac 2 -i {} {}\".format(\n",
    "        ENC, SR / 1000, RAW_FILE, TMP_FILE)\n",
    "    subprocess.call(cmd.split(\" \"))  \n",
    "\n",
    "# Convert RAW to WAV using FFMPEG\n",
    "raw_to_interleaved_wav()"
   ]
  },
  {
   "cell_type": "code",
   "execution_count": 7,
   "metadata": {},
   "outputs": [],
   "source": [
    "def make_even(x):\n",
    "    return x if len(x) % 2 == 0 else x[:-1]\n",
    "\n",
    "def to_mono(x):\n",
    "    return x.flatten('F')\n",
    "\n",
    "def to_stereo(x):\n",
    "    return x.reshape((2, -1), order='F')\n",
    "\n",
    "def gen_indeces(N, inc1=SEGMENT_SIZE1, inc2=SEGMENT_SIZE2):\n",
    "    \"\"\"Generates the indeces for the slicing. \n",
    "    Indeces are interleaved:\n",
    "        - two segment1s\n",
    "        - two segment2s\n",
    "        - two segment1s\n",
    "        - ...\n",
    "    Assuming stereo.\n",
    "    \"\"\"\n",
    "    s = [0]\n",
    "    i = 0\n",
    "    while s[-1] < N:\n",
    "        inc = inc1 if i <= 1 else inc2\n",
    "        s.append(s[-1] + inc * 2)\n",
    "        i += 1\n",
    "        i %= 4\n",
    "    return s[1:]\n",
    "    \n",
    "def interleaved_wav_to_wavs():\n",
    "    \"\"\"Main function to deinterleave the signals.\"\"\"\n",
    "    # Read file\n",
    "    x, fs = librosa.load(TMP_FILE, sr=SR, mono=False)\n",
    "    \n",
    "    # Read interleaved chunks\n",
    "    x = to_mono(x[:, OFFSET_SAMP:])\n",
    "    y = np.array_split(x, gen_indeces(len(x)))\n",
    "    \n",
    "    # De-interleave chunks and make even\n",
    "    y1 = make_even(np.concatenate(y[::2]))\n",
    "    y2 = make_even(np.concatenate(y[1::2]))\n",
    "    \n",
    "    # Return Stereo signals\n",
    "    return to_stereo(y1), to_stereo(y2)\n",
    "    \n",
    "# Deinterleave\n",
    "x1, x2 = interleaved_wav_to_wavs()\n",
    "\n",
    "# Save wavs\n",
    "soundfile.write(file=WAV_FILE1, data=x1.T, samplerate=SR)\n",
    "soundfile.write(file=WAV_FILE2, data=x2.T, samplerate=SR)"
   ]
  },
  {
   "cell_type": "markdown",
   "metadata": {},
   "source": [
    "# Sandbox\n",
    "\n",
    "Code below is highly likely useless."
   ]
  },
  {
   "cell_type": "code",
   "execution_count": null,
   "metadata": {},
   "outputs": [],
   "source": [
    "# 269727 -> 269728 # 2nd change\n",
    "# 531871 -> 531872 # 4th change\n",
    "# 1072543 -> 1072544 # 8th change \n",
    "# 3374495 -> 3374495 # 17th (?) change\n",
    "# 4455839 -> 4455840 # \n",
    "# 4857247 -> 4857247 # Nth change - Beginning of mic\n",
    "# 16620959 -> 16620960 # Nth change - Beginning of jack\n",
    "# 16752031 -> 16752032 # Nth change - Beginning of mic (next segment!)\n",
    "# 16891295 -> 16891296 # Nth change - Beginning of jack (next segment!)\n",
    "\n",
    "# 18914719 -> 18914720 # Nth change - Beginning of mic\n",
    "# 19053983 -> 19053984 # Nth change - Beginning of jack (next segment!)"
   ]
  },
  {
   "cell_type": "code",
   "execution_count": null,
   "metadata": {},
   "outputs": [],
   "source": [
    "(531871 - 269727) / 2"
   ]
  },
  {
   "cell_type": "code",
   "execution_count": null,
   "metadata": {},
   "outputs": [],
   "source": [
    "531871 - 131072 * 4"
   ]
  },
  {
   "cell_type": "code",
   "execution_count": null,
   "metadata": {},
   "outputs": [],
   "source": [
    "(1072543 - 531871) / 4"
   ]
  },
  {
   "cell_type": "code",
   "execution_count": null,
   "metadata": {},
   "outputs": [],
   "source": [
    "(1072543 - 269727) / 6"
   ]
  },
  {
   "cell_type": "code",
   "execution_count": null,
   "metadata": {},
   "outputs": [],
   "source": [
    "# Jack part length:\n",
    "16752031 - 16620959"
   ]
  },
  {
   "cell_type": "code",
   "execution_count": null,
   "metadata": {},
   "outputs": [],
   "source": [
    "# Mic part length:\n",
    "16891295 - 16752031"
   ]
  },
  {
   "cell_type": "code",
   "execution_count": null,
   "metadata": {},
   "outputs": [],
   "source": [
    "# Mic part length\n",
    "19053983 - 18914719"
   ]
  },
  {
   "cell_type": "code",
   "execution_count": null,
   "metadata": {},
   "outputs": [],
   "source": []
  }
 ],
 "metadata": {
  "kernelspec": {
   "display_name": "Python 3",
   "language": "python",
   "name": "python3"
  },
  "language_info": {
   "codemirror_mode": {
    "name": "ipython",
    "version": 3
   },
   "file_extension": ".py",
   "mimetype": "text/x-python",
   "name": "python",
   "nbconvert_exporter": "python",
   "pygments_lexer": "ipython3",
   "version": "3.7.4"
  }
 },
 "nbformat": 4,
 "nbformat_minor": 2
}
